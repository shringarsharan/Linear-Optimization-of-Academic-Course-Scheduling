{
 "cells": [
  {
   "cell_type": "markdown",
   "metadata": {},
   "source": [
    "**Decision variable:** \n",
    "\n",
    "- Let $x_{ijkl}$ be a binary variable denoting if a section $i$ is assigned to day $j$,classroom $k$, and time slot $l$\n",
    "- Let $a_i$ be a binary variable denoting if a section $i$ is scheduled on Monday\n",
    "- Let $b_i$ be a binary variable denoting if a section $i$ is scheduled on Tuesday\n",
    "- Let $c_i$ be a binary variable denoting if a section $i$ is scheduled on Wednesday\n",
    "- Let $d_i$ be a binary variable denoting if a section $i$ is scheduled on Thursday\n",
    "- Let $e_i$ be a binary variable denoting if a section $i$ is scheduled on Friday\n",
    "- Let $u_{ik}$ be a binary variable denoting if a section $i$ is assigned to classroom $k$ at all\n",
    "- Let $w_{il}$ be a binary variable denoting if a section $i$ is assigned to time slot $l$ at all\n",
    "- Let $z_i$ be a binary variable denoting if a section $i$ is assigned to MW, $i \\in D$\n",
    "\n",
    "**Data variable:** \n",
    "- $I$: set of course sections\n",
    "- $J$: set of days $\\{M,T,W,H,F\\}$\n",
    "- $K$: set of classrooms \n",
    "- $L$: set of time slots $\\{0,1,2,3,4,5,6,7,8\\}$ \n",
    "- $A$: set of 90min course\n",
    "- $B$: set of 180min course\n",
    "- $C$: set of courses only meet once per week\n",
    "- $D$: set of courses meet twice per week\n",
    "- $R$: set of professors\n",
    "- $r_{il}$: section $i$'s ranking for time slot $l$, from 1 to 3, with 3 being the most wanted time slots and 1 being the least wanted time slots\n",
    "- $F$: set of first-half semseter courses\n",
    "- $S$: set of second-half semseter courses\n",
    "- $U$: set of full semester courses\n",
    "\n",
    "**Objective and constraints:** \n",
    "$$\\begin{aligned}\n",
    "\\text{Maximize} && \\sum_{i \\in I,j \\in J,k \\in K, l \\in L} x_{ijkl}r_{il}\\\\\n",
    "\\text{s.t.} \\\\\n",
    "\\text{(At most 1 class assigned to a classroom, at a time slot, on a day)} && \\sum_{i}x_{ijkl} & \\le 1  && \\text{for $j \\in J$,$k \\in K$, $l \\in L$}\\\\\n",
    "\\text{(Whether a class $i$ is scheduled on Monday)} && 0.0001\\sum_{j = M,k \\in K, l \\in L} x_{ijkl} \\le a_i & \\le \\sum_{j = M,k \\in K, l \\in L} x_{ijkl} && \\text{for $i \\in I$} \\\\\n",
    "\\text{(Whether a class $i$ is scheduled on Tueday)} && 0.0001\\sum_{j = T,k \\in K, l \\in L} x_{ijkl} \\le b_i & \\le \\sum_{j = T,k \\in K, l \\in L} x_{ijkl} && \\text{for $i \\in I$} \\\\\n",
    "\\text{(Whether a class $i$ is scheduled on Wednesday)} && 0.0001\\sum_{j = W,k \\in K, l \\in L} x_{ijkl} \\le c_i & \\le \\sum_{j = W,k \\in K, l \\in L} x_{ijkl} && \\text{for $i \\in I$} \\\\\n",
    "\\text{(Whether a class $i$ is scheduled on Thursday)} && 0.0001\\sum_{j = H,k \\in K, l \\in L} x_{ijkl} \\le d_i & \\le \\sum_{j = H,k \\in K, l \\in L} x_{ijkl} && \\text{for $i \\in I$} \\\\\n",
    "\\text{(Whether a class $i$ is scheduled on Friday)} && 0.0001\\sum_{j = F,k \\in K, l \\in L} x_{ijkl} \\le e_i & \\le \\sum_{j = F,k \\in K, l \\in L} x_{ijkl} && \\text{for $i \\in I$} \\\\\n",
    "\\text{(Assign 1 day if a class meets once a week)} && a_i+b_i+c_i+d_i+e_i & = 1 && \\text{for $i \\in C$} \\\\\n",
    "\\text{(Assign 2 days if a class meets twice a week)} && a_i+b_i+c_i+d_i+e_i & = 2 && \\text{for $i \\in D$} \\\\\n",
    "\\text{(Assign MW or TH if a class meets twice a week)} && a_i+c_i & = 2z_i && \\text{for $i \\in D$} \\\\\n",
    "\\text{(Assign MW or TH if a class meets twice a week)} && b_i+d_i & = 2(1-z_i) && \\text{for $i \\in D$} \\\\\n",
    "\\text{(Each professor doesn’t have courses with overlapping time slots)} && \\sum_{i \\in p_r,k \\in K} x_{ijkl} & \\le 1 && \\text{for $l \\in L$,$j \\in J$,$r \\in R$} \\\\\n",
    "\\text{(Whether a section $i$ is assigned to classroom $k$)} && 0.0001\\sum_{j \\in J,l \\in L} x_{ijkl} \\le u_{ik} & \\le \\sum_{j \\in J,l \\in L} x_{ijkl} && \\text{for $i \\in I$,$k \\in K$} \\\\\n",
    "\\text{(Each section $i$ can be assigned to at most 1 classroom)} && \\sum_{k \\in K} u_{ik} & \\le 1 && \\text{for $i \\in I$} \\\\\n",
    "\\text{(Whether a section $i$ is assigned to time slot $l$)} && 0.0001\\sum_{j \\in J,k \\in K} x_{ijkl} \\le w_{il} & \\le \\sum_{j \\in J,k \\in K} x_{ijkl} && \\text{for $i \\in I$,$l \\in L$} \\\\\n",
    "\\text{(Each 90min section $i$ can be assigned to at most 1 time slot across the entire week)} && \\sum_{l \\in L} w_{il} & = 1 && \\text{for $i \\in A$} \\\\\n",
    "\\text{(Each 180min section $i$ can be assigned to at most 2 time slot across the entire week)} && \\sum_{l \\in L} w_{il} & = 2 && \\text{for $i \\in B$} \\\\\n",
    "\\text{(First-half course and full semester course cannot overlap)} && x_{mjkl}+x_{njkl} & \\le 1 && \\text{for $m \\in F$, $n \\in U$, $j \\in J$,$k \\in K$, $l \\in L$} \\\\\n",
    "\\text{(Second-half course and full semester course cannot overlap)} && x_{mjkl}+x_{njkl} & \\le 1 && \\text{for $m \\in S$, $n \\in U$, $j \\in J$,$k \\in K$, $l \\in L$} \\\\\n",
    "\\end{aligned}$$\n"
   ]
  }
 ],
 "metadata": {
  "kernelspec": {
   "display_name": "Python 3",
   "language": "python",
   "name": "python3"
  },
  "language_info": {
   "codemirror_mode": {
    "name": "ipython",
    "version": 3
   },
   "file_extension": ".py",
   "mimetype": "text/x-python",
   "name": "python",
   "nbconvert_exporter": "python",
   "pygments_lexer": "ipython3",
   "version": "3.7.6"
  }
 },
 "nbformat": 4,
 "nbformat_minor": 2
}
